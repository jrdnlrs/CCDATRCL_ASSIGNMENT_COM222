{
  "cells": [
    {
      "cell_type": "markdown",
      "metadata": {
        "id": "EZSMiX_-isBP"
      },
      "source": [
        "# Exercise 5"
      ]
    },
    {
      "cell_type": "markdown",
      "metadata": {
        "id": "LtTUU9tyisBV"
      },
      "source": [
        "#### 1. Create a dictionary of your 10 favorite songs."
      ]
    },
    {
      "cell_type": "markdown",
      "metadata": {
        "id": "PNHIArJKisBW"
      },
      "source": [
        "Example:\n",
        "\n",
        "|KEY|VALUE|\n",
        "|---|---|\n",
        "|001|My Love|\n",
        "|002|Like a rose|"
      ]
    },
    {
      "cell_type": "code",
      "execution_count": 23,
      "metadata": {
        "id": "aYdrriYUisBX",
        "colab": {
          "base_uri": "https://localhost:8080/"
        },
        "outputId": "073a6bc1-4829-4e5d-852c-e0c4c90b3835"
      },
      "outputs": [
        {
          "output_type": "stream",
          "name": "stdout",
          "text": [
            "{'001': 'My Love', '002': 'Oh Lunes Nanaman', '003': 'Dasal/Kasal', '004': 'Japanese Denim', '005': 'Super Rich Kids', '006': 'ALL MINE', '007': \"Could've Been\"}\n"
          ]
        }
      ],
      "source": [
        "mydictionary = {\n",
        "  \"001\": \"My Love\",\n",
        "  \"002\": \"Oh Lunes Nanaman\",\n",
        "   \"003\": \"Dasal/Kasal\",\n",
        "   \"004\": \"Japanese Denim\",\n",
        "   \"005\": \"Super Rich Kids\",\n",
        "  \"006\": \"ALL MINE\",\n",
        "   \"007\": \"Could've Been\",\n",
        "}\n",
        "print(mydictionary)"
      ]
    },
    {
      "cell_type": "markdown",
      "metadata": {
        "id": "Wxw5yKmJisBa"
      },
      "source": [
        "#### 2. Loop through the dictionary by its **key** and **value**"
      ]
    },
    {
      "cell_type": "code",
      "execution_count": 24,
      "metadata": {
        "id": "hr2x4C8OisBb",
        "colab": {
          "base_uri": "https://localhost:8080/"
        },
        "outputId": "6836e168-b21e-4561-a059-57f6c371cd44"
      },
      "outputs": [
        {
          "output_type": "stream",
          "name": "stdout",
          "text": [
            "001 My Love\n",
            "002 Oh Lunes Nanaman\n",
            "003 Dasal/Kasal\n",
            "004 Japanese Denim\n",
            "005 Super Rich Kids\n",
            "006 ALL MINE\n",
            "007 Could've Been\n"
          ]
        }
      ],
      "source": [
        "for x, y in mydictionary.items():\n",
        "  print(x, y)"
      ]
    },
    {
      "cell_type": "markdown",
      "metadata": {
        "id": "rXzuz4_MisBb"
      },
      "source": [
        "#### 3. Add one additional song"
      ]
    },
    {
      "cell_type": "code",
      "execution_count": 25,
      "metadata": {
        "id": "YDh6T7pzisBc",
        "colab": {
          "base_uri": "https://localhost:8080/"
        },
        "outputId": "101f08da-f45f-4498-a22b-d3c7081ec426"
      },
      "outputs": [
        {
          "output_type": "execute_result",
          "data": {
            "text/plain": [
              "{'001': 'My Love',\n",
              " '002': 'Oh Lunes Nanaman',\n",
              " '003': 'Dasal/Kasal',\n",
              " '004': 'Japanese Denim',\n",
              " '005': 'Super Rich Kids',\n",
              " '006': 'ALL MINE',\n",
              " '007': \"Could've Been\",\n",
              " '008': 'The Archer'}"
            ]
          },
          "metadata": {},
          "execution_count": 25
        }
      ],
      "source": [
        "mydictionary.update({\"008\": \"The Archer\"})\n",
        "mydictionary"
      ]
    },
    {
      "cell_type": "markdown",
      "metadata": {
        "id": "jeyTodoWisBc"
      },
      "source": [
        "#### 4. Remove one song"
      ]
    },
    {
      "cell_type": "code",
      "execution_count": 26,
      "metadata": {
        "id": "y1M0qfwXisBd",
        "colab": {
          "base_uri": "https://localhost:8080/"
        },
        "outputId": "39317669-2f2e-4e73-88ec-76dddc57b9d0"
      },
      "outputs": [
        {
          "output_type": "execute_result",
          "data": {
            "text/plain": [
              "{'002': 'Oh Lunes Nanaman',\n",
              " '003': 'Dasal/Kasal',\n",
              " '004': 'Japanese Denim',\n",
              " '005': 'Super Rich Kids',\n",
              " '006': 'ALL MINE',\n",
              " '007': \"Could've Been\",\n",
              " '008': 'The Archer'}"
            ]
          },
          "metadata": {},
          "execution_count": 26
        }
      ],
      "source": [
        "mydictionary.pop(\"001\")\n",
        "mydictionary"
      ]
    },
    {
      "cell_type": "markdown",
      "metadata": {
        "id": "vg78X-_hisBd"
      },
      "source": [
        "#### 5. Create a nested dictionary of your 10 favorite songs with 5 genres. Display all of the items of the nested dictionary\n",
        "\n",
        "- Each nested dictionary's key should be the genre of the song\n",
        "- Put each song in their respective genre"
      ]
    },
    {
      "cell_type": "markdown",
      "metadata": {
        "id": "5loALQ3eisBe"
      },
      "source": [
        "Example:\n",
        "\n",
        "\n",
        "|KEY|VALUE|\n",
        "|---|---|\n",
        "|Pop|{001, Baby}|\n",
        "|Rock|{001, Enter Sandman}|"
      ]
    },
    {
      "cell_type": "code",
      "execution_count": 27,
      "metadata": {
        "id": "Ls8wCJGCisBf",
        "colab": {
          "base_uri": "https://localhost:8080/"
        },
        "outputId": "55ee75f7-f1b4-42b2-fe1e-3575089c342a"
      },
      "outputs": [
        {
          "output_type": "execute_result",
          "data": {
            "text/plain": [
              "{'RnB': {'001': 'Always - Daniel Caesar',\n",
              "  '002': 'Pink + White - Frank Ocean',\n",
              "  '003': '20 something - SZA',\n",
              "  '004': 'The Color Violet - Tory Lanez',\n",
              "  '005': 'Die for you - The Weeknd'},\n",
              " 'Pop': {'001': 'Nonesense - Sabrina Carpenter',\n",
              "  '002': 'the grudge - Olivia Rodrigo',\n",
              "  '003': 'La La Lost You - NIKI',\n",
              "  '004': 'Dance The Night - Dua Lipa',\n",
              "  '005': 'Illicit Affairs - Taylor Swift'},\n",
              " 'Rap': {'001': 'WELCOME2DTQ - Hev Abi',\n",
              "  '002': 'City Girl - Shantidope',\n",
              "  '003': 'Stir Fry - Migos',\n",
              "  '004': 'Search and Rescue - Drake',\n",
              "  '005': 'Keep Ya Head Up - Tupac'}}"
            ]
          },
          "metadata": {},
          "execution_count": 27
        }
      ],
      "source": [
        "mydictionary = {\n",
        "  \"RnB\" : {\n",
        "    \"001\" : \"Always - Daniel Caesar\",\n",
        "    \"002\" : \"Pink + White - Frank Ocean\",\n",
        "     \"003\" : \"20 something - SZA\",\n",
        "     \"004\" : \"The Color Violet - Tory Lanez\",\n",
        "     \"005\" : \"Die for you - The Weeknd\",\n",
        "  },\n",
        "  \"Pop\" : {\n",
        "    \"001\" : \"Nonesense - Sabrina Carpenter\",\n",
        "    \"002\" : \"the grudge - Olivia Rodrigo\",\n",
        "     \"003\" : \"La La Lost You - NIKI\",\n",
        "     \"004\" : \"Dance The Night - Dua Lipa\",\n",
        "     \"005\" : \"Illicit Affairs - Taylor Swift\",\n",
        "\n",
        "  },\n",
        "  \"Rap\" : {\n",
        "    \"001\" : \"WELCOME2DTQ - Hev Abi\",\n",
        "    \"002\" : \"City Girl - Shantidope\",\n",
        "     \"003\" : \"Stir Fry - Migos\",\n",
        "     \"004\" : \"Search and Rescue - Drake\",\n",
        "     \"005\" : \"Keep Ya Head Up - Tupac\",\n",
        "  }\n",
        "}\n",
        "\n",
        "mydictionary"
      ]
    },
    {
      "cell_type": "markdown",
      "metadata": {
        "id": "uPHdF14_isBf"
      },
      "source": [
        "#### 6. Print the first song of the first genre"
      ]
    },
    {
      "cell_type": "code",
      "execution_count": 28,
      "metadata": {
        "id": "1eDEVoFSisBf",
        "colab": {
          "base_uri": "https://localhost:8080/"
        },
        "outputId": "c4fcbd36-d4c4-40af-889d-4096135de772"
      },
      "outputs": [
        {
          "output_type": "stream",
          "name": "stdout",
          "text": [
            "Always - Daniel Caesar\n"
          ]
        }
      ],
      "source": [
        "print(mydictionary[\"RnB\"][\"001\"])"
      ]
    },
    {
      "cell_type": "markdown",
      "metadata": {
        "id": "deRHrHMlisBg"
      },
      "source": [
        "#### 7. Print the first song of the last genre"
      ]
    },
    {
      "cell_type": "code",
      "execution_count": 29,
      "metadata": {
        "id": "b7-maztBisBg",
        "colab": {
          "base_uri": "https://localhost:8080/"
        },
        "outputId": "f577bde7-47e4-46df-c4eb-9d4311c2080a"
      },
      "outputs": [
        {
          "output_type": "stream",
          "name": "stdout",
          "text": [
            "WELCOME2DTQ - Hev Abi\n"
          ]
        }
      ],
      "source": [
        "print(mydictionary[\"Rap\"][\"001\"])"
      ]
    }
  ],
  "metadata": {
    "kernelspec": {
      "display_name": "Python 3",
      "language": "python",
      "name": "python3"
    },
    "language_info": {
      "codemirror_mode": {
        "name": "ipython",
        "version": 3
      },
      "file_extension": ".py",
      "mimetype": "text/x-python",
      "name": "python",
      "nbconvert_exporter": "python",
      "pygments_lexer": "ipython3",
      "version": "3.11.4"
    },
    "orig_nbformat": 4,
    "colab": {
      "provenance": []
    }
  },
  "nbformat": 4,
  "nbformat_minor": 0
}