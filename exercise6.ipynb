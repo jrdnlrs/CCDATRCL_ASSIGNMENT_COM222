{
  "cells": [
    {
      "cell_type": "markdown",
      "metadata": {
        "id": "DVxjQfUxCYJw"
      },
      "source": [
        "# Exercise 6"
      ]
    },
    {
      "cell_type": "markdown",
      "metadata": {
        "id": "qZeQM1GCCYJ2"
      },
      "source": [
        "#### Pre-defined code"
      ]
    },
    {
      "cell_type": "code",
      "execution_count": 38,
      "metadata": {
        "id": "eVB0Xj6oCYJ2"
      },
      "outputs": [],
      "source": [
        "class Node:\n",
        "    def __init__(self, item):\n",
        "        self.left = None\n",
        "        self.right = None\n",
        "        self.val = item"
      ]
    },
    {
      "cell_type": "code",
      "execution_count": 39,
      "metadata": {
        "id": "VAYXskzjCYJ4"
      },
      "outputs": [],
      "source": [
        "def inorder(root):\n",
        "\n",
        "    if root:\n",
        "        # Traverse left\n",
        "        inorder(root.left)\n",
        "        # Traverse root\n",
        "        print(str(root.val) + \"->\", end='')\n",
        "        # Traverse right\n",
        "        inorder(root.right)\n",
        "\n",
        "def postorder(root):\n",
        "\n",
        "    if root:\n",
        "        # Traverse left\n",
        "        postorder(root.left)\n",
        "        # Traverse right\n",
        "        postorder(root.right)\n",
        "        # Traverse root\n",
        "        print(str(root.val) + \"->\", end='')\n",
        "\n",
        "def preorder(root):\n",
        "\n",
        "    if root:\n",
        "        # Traverse root\n",
        "        print(str(root.val) + \"->\", end='')\n",
        "        # Traverse left\n",
        "        preorder(root.left)\n",
        "        # Traverse right\n",
        "        preorder(root.right)"
      ]
    },
    {
      "cell_type": "markdown",
      "metadata": {
        "id": "jLSn5_rZCYJ5"
      },
      "source": [
        "#### 1. Construct Create your own company org chart and put yourself as CEO.\n",
        "\n",
        "Using a Tree data structure,\n",
        "\n",
        "- Assign yourself as CEO\n",
        "\n",
        "- Assign any of your classmate as HR Director\n",
        "- Assign any of your classmate as Sales Director\n",
        "\n",
        "- Assign any of your classmate as trainee. His/her boss is the HR Director\n",
        "- Assign any of your classmate as a staff and trainee. Their boss is the Sales Director\n"
      ]
    },
    {
      "cell_type": "markdown",
      "metadata": {
        "id": "dk7ld6UZCYJ5"
      },
      "source": [
        "<img src=\"https://thumbs.dreamstime.com/z/cartoon-organization-chart-some-company-93778925.jpg\"/>"
      ]
    },
    {
      "cell_type": "code",
      "execution_count": 40,
      "metadata": {
        "id": "rqXK35E5CYJ6"
      },
      "outputs": [],
      "source": [
        "root = Node(\" (Elijah Lirios - CEO) \")\n",
        "root.left = Node(\" (Jaira Marcial - HR Director) \")\n",
        "root.right = Node(\" (Renz Alis - Sales Director) \")\n",
        "root.left.left = Node(\" (Kristel Malubay - Trainee) \")\n",
        "root.left.right = Node(\" (Khyle Hernandez - Staff/Trainee) \")\n",
        "\n"
      ]
    },
    {
      "cell_type": "markdown",
      "metadata": {
        "id": "GL3_8FgZCYJ6"
      },
      "source": [
        "#### 2. Traverse the tree in in-order traversal"
      ]
    },
    {
      "cell_type": "code",
      "execution_count": 41,
      "metadata": {
        "id": "B9HRJZpDCYJ7",
        "colab": {
          "base_uri": "https://localhost:8080/"
        },
        "outputId": "5b8713da-5809-40d8-b305-7c8bfd797f67"
      },
      "outputs": [
        {
          "output_type": "stream",
          "name": "stdout",
          "text": [
            "Inorder traversal \n",
            " (Kristel Malubay - Trainee) -> (Jaira Marcial - HR Director) -> (Khyle Hernandez - Staff/Trainee) -> (Elijah Lirios - CEO) -> (Renz Alis - Sales Director) ->"
          ]
        }
      ],
      "source": [
        "print(\"Inorder traversal \")\n",
        "inorder(root)"
      ]
    },
    {
      "cell_type": "markdown",
      "metadata": {
        "id": "S1Sx8BDnCYJ7"
      },
      "source": [
        "#### 3. Traverse the tree in pre-order traversal"
      ]
    },
    {
      "cell_type": "code",
      "execution_count": 42,
      "metadata": {
        "id": "TPXZoabNCYJ7",
        "colab": {
          "base_uri": "https://localhost:8080/"
        },
        "outputId": "33d6cbf9-3cb2-4a89-f959-06fe7bc1f38a"
      },
      "outputs": [
        {
          "output_type": "stream",
          "name": "stdout",
          "text": [
            "\n",
            "Preorder traversal \n",
            " (Elijah Lirios - CEO) -> (Jaira Marcial - HR Director) -> (Kristel Malubay - Trainee) -> (Khyle Hernandez - Staff/Trainee) -> (Renz Alis - Sales Director) ->"
          ]
        }
      ],
      "source": [
        "print(\"\\nPreorder traversal \")\n",
        "preorder(root)"
      ]
    },
    {
      "cell_type": "markdown",
      "metadata": {
        "id": "11uHvayBCYJ8"
      },
      "source": [
        "#### 4. Traverse the tree in post-order traversal"
      ]
    },
    {
      "cell_type": "code",
      "execution_count": 43,
      "metadata": {
        "id": "AMGtioFHCYJ8",
        "colab": {
          "base_uri": "https://localhost:8080/"
        },
        "outputId": "4430dc2b-2ae3-431a-81cf-c6b7f45a831f"
      },
      "outputs": [
        {
          "output_type": "stream",
          "name": "stdout",
          "text": [
            "\n",
            "Postorder traversal \n",
            " (Kristel Malubay - Trainee) -> (Khyle Hernandez - Staff/Trainee) -> (Jaira Marcial - HR Director) -> (Renz Alis - Sales Director) -> (Elijah Lirios - CEO) ->"
          ]
        }
      ],
      "source": [
        "print(\"\\nPostorder traversal \")\n",
        "postorder(root)"
      ]
    }
  ],
  "metadata": {
    "kernelspec": {
      "display_name": "Python 3",
      "language": "python",
      "name": "python3"
    },
    "language_info": {
      "codemirror_mode": {
        "name": "ipython",
        "version": 3
      },
      "file_extension": ".py",
      "mimetype": "text/x-python",
      "name": "python",
      "nbconvert_exporter": "python",
      "pygments_lexer": "ipython3",
      "version": "3.11.4"
    },
    "orig_nbformat": 4,
    "colab": {
      "provenance": []
    }
  },
  "nbformat": 4,
  "nbformat_minor": 0
}